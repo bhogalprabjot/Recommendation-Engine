{
 "cells": [
  {
   "cell_type": "code",
   "execution_count": null,
   "metadata": {},
   "outputs": [],
   "source": [
    "#################################\n",
    "#IMPORTS\n",
    "#################################\n",
    "import pandas as pd\n",
    "\n",
    "import numpy as np\n",
    "\n",
    "from sklearn.feature_extraction.text import CountVectorizer\n",
    "\n",
    "from sklearn.metrics.pairwise import cosine_similarity\n"
   ]
  },
  {
   "cell_type": "code",
   "execution_count": null,
   "metadata": {},
   "outputs": [],
   "source": [
    "#################################\n",
    "#HELPER FUNCTIONS\n",
    "################################\n",
    "def get_title_from_index(index):\n",
    "    return df[df.index == index][\"title\"].values[0]\n",
    "\n",
    "def get_index_from_title(title):\n",
    "    return df[df.title == title][\"index\"].values[0]"
   ]
  },
  {
   "cell_type": "code",
   "execution_count": null,
   "metadata": {},
   "outputs": [],
   "source": [
    "#Step 1: Read CSV file\n",
    "df = pd.read_csv(\"movie_dataset.csv\")\n",
    "df.head()\n",
    "#df.columns"
   ]
  },
  {
   "cell_type": "code",
   "execution_count": null,
   "metadata": {},
   "outputs": [],
   "source": [
    "#Step 2: Select Features\n",
    "features = ['keywords','cast', 'genres','director']"
   ]
  },
  {
   "cell_type": "code",
   "execution_count": null,
   "metadata": {},
   "outputs": [],
   "source": [
    "#Step 3: Create a new column which combines all the selected features\n",
    "\n",
    "for feature in features:\n",
    "    df[feature] = df[feature].fillna('')\n",
    "\n",
    "def combine_features(row):\n",
    "    try:\n",
    "        return row['keywords'] + \" \" + row['cast'] + \" \" + row['genres'] + \" \" + row['director']\n",
    "    except:\n",
    "        print(\"Error\", row)\n",
    "        \n",
    "df[\"combined_features\"] = df.apply(combine_features, axis = 1)\n",
    "df.combined_features"
   ]
  },
  {
   "cell_type": "code",
   "execution_count": null,
   "metadata": {},
   "outputs": [],
   "source": [
    "# Step 4: Create a count matrix from this new combined column\n",
    "\n",
    "vectorizer = CountVectorizer()\n",
    "\n",
    "count_matrix = vectorizer.fit_transform(df[\"combined_features\"])                                          \n",
    "\n",
    "count_matrix_array = count_matrix.toarray()\n"
   ]
  },
  {
   "cell_type": "code",
   "execution_count": null,
   "metadata": {},
   "outputs": [],
   "source": [
    "# Step 5: Compute the cosine similarity based on the count martix\n",
    "cosine_sim = cosine_similarity(count_matrix)\n",
    "\n",
    "print(\"\\nTheir term-document matrix in array representation\\n\", count_matrix_array)\n",
    "\n",
    "print(\"\\nThe cosine similarity score:\\n\", cosine_sim)\n",
    "\n",
    "movie_user_likes = \"Avatar\"\n"
   ]
  },
  {
   "cell_type": "code",
   "execution_count": null,
   "metadata": {},
   "outputs": [],
   "source": [
    "# Step 6: Get index of this movie form its title\n",
    "movie_index = get_index_from_title(movie_user_likes)\n",
    "similar_movies = list(enumerate(cosine_sim[movie_index]))"
   ]
  },
  {
   "cell_type": "code",
   "execution_count": null,
   "metadata": {},
   "outputs": [],
   "source": [
    "# Step 7: Get a list of similar movies in descending order of similarity score\n",
    "sorted_similar_movies = sorted(similar_movies, key = lambda x:x[1], reverse = True)"
   ]
  },
  {
   "cell_type": "code",
   "execution_count": null,
   "metadata": {},
   "outputs": [],
   "source": [
    "# Step 8: Print a list of 50 movies\n",
    "i=0\n",
    "for movie in sorted_similar_movies:\n",
    "    print(get_title_from_index(movie[0]))\n",
    "    i+=1\n",
    "    if i>50:\n",
    "        break"
   ]
  },
  {
   "cell_type": "code",
   "execution_count": null,
   "metadata": {},
   "outputs": [],
   "source": []
  }
 ],
 "metadata": {
  "kernelspec": {
   "display_name": "Python 3",
   "language": "python",
   "name": "python3"
  },
  "language_info": {
   "codemirror_mode": {
    "name": "ipython",
    "version": 3
   },
   "file_extension": ".py",
   "mimetype": "text/x-python",
   "name": "python",
   "nbconvert_exporter": "python",
   "pygments_lexer": "ipython3",
   "version": "3.7.3"
  }
 },
 "nbformat": 4,
 "nbformat_minor": 2
}
